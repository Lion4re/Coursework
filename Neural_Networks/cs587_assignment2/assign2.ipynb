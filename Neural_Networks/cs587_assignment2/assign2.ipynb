{
 "cells": [
  {
   "cell_type": "markdown",
   "metadata": {},
   "source": [
    "# **Welcome to the 2nd (short) assignment of CS-587**\n",
    "\n",
    "The aim of this assignment is to get familiar with:\n",
    "- the PyTorch autograd framework\n",
    "- computational graphs and the information flow (forward, backward operation)!\n",
    "\n",
    "Additional Reading Material:\n",
    "- \n",
    "- [Automatic Differentiation with torch.autograd](https://pytorch.org/tutorials/beginner/basics/autogradqs_tutorial.html)\n",
    "- [Tutorial on Tensors](https://pytorch.org/tutorials/beginner/basics/tensorqs_tutorial.html)\n",
    "\n",
    "You need to submit:\n",
    "- This .ipynb or .py file\n",
    "- A report (.pdf or .doc) with the requested tasks."
   ]
  },
  {
   "cell_type": "markdown",
   "metadata": {},
   "source": [
    "**Quick check on what you have installed** "
   ]
  },
  {
   "cell_type": "code",
   "execution_count": 1,
   "metadata": {},
   "outputs": [
    {
     "name": "stdout",
     "output_type": "stream",
     "text": [
      "Python version: 3.10.13 | packaged by Anaconda, Inc. | (main, Sep 11 2023, 13:24:38) [MSC v.1916 64 bit (AMD64)]\n",
      "PyTorch version: 2.2.1\n"
     ]
    }
   ],
   "source": [
    "import sys\n",
    "print(\"Python version:\", sys.version)\n",
    "\n",
    "import torch\n",
    "print(\"PyTorch version:\", torch.__version__)"
   ]
  },
  {
   "cell_type": "markdown",
   "metadata": {},
   "source": [
    "# **Part 1: Linear Regression**\n",
    "\n",
    "The goal is to define a linear regression model using PyTorch tensors and operations. In subsequent exercises we will use higher level Pytorch classes and methods, which essentially encapsulate these tensor operations. But, for now you should use pytorch tensors only (not Modules yet).\n",
    "\n",
    "\n",
    "**Tasks**:\n",
    "- Define the inputs $x=[1,2,3,4]$ and outputs $y=[0,-1,-2,-3]$ as tensors with `float32` format\n",
    "- Define the weights and biases as tensors with `float32` format. Initialize the weight with 0.3 and the bias with -0.3\n",
    "- Define the model operation:\n",
    "$$\\hat y = w*x+b$$\n",
    "\n",
    "- Define the loss (quadratic loss between model output and expected value)\n",
    "$$\n",
    "Loss(y, \\hat y) = \\frac{1}{N} \\sum_{i=1}^N (y_i - \\hat y_i)^2\n",
    "$$\n",
    "- Train your model for 100 iterations using SGD with learning rate `0.01`.\n",
    "\n",
    "For this assignment you are allowed to use the functions:\n",
    "```python\n",
    "torch.tensor, torch.add, torch.mul, torch.square, torch.sum, torch.numel\n",
    "```\n",
    "\n",
    "As well as any other function in the pytorch framework that suits your needs.\n"
   ]
  },
  {
   "cell_type": "code",
   "execution_count": 2,
   "metadata": {},
   "outputs": [
    {
     "name": "stdout",
     "output_type": "stream",
     "text": [
      "Iteration:   0 | Loss: 5.914999961853027\n",
      "Iteration:  10 | Loss: 0.5260283946990967\n",
      "Iteration:  20 | Loss: 0.3648926913738251\n",
      "Iteration:  30 | Loss: 0.34027719497680664\n",
      "Iteration:  40 | Loss: 0.3203839063644409\n",
      "Iteration:  50 | Loss: 0.3017336428165436\n",
      "Iteration:  60 | Loss: 0.28417113423347473\n",
      "Iteration:  70 | Loss: 0.26763084530830383\n",
      "Iteration:  80 | Loss: 0.25205332040786743\n",
      "Iteration:  90 | Loss: 0.23738253116607666\n",
      "Iteration:  99 | Loss: 0.22491037845611572\n",
      "=============================================\n",
      "Estimated parameters:  W: -0.606  |  b: -0.157\n"
     ]
    }
   ],
   "source": [
    "#####################################################\n",
    "# TASK: Define inputs and outputs with the values:  #\n",
    "#       x = 1, 2, 3, 4   |   y = 0, -1, -2, -3      #\n",
    "#####################################################\n",
    "x = torch.tensor([1, 2, 3, 4], dtype=torch.float32)\n",
    "y = torch.tensor([0, -1, -2, -3], dtype=torch.float32)\n",
    "\n",
    "#####################################################\n",
    "# TASK: Define the weights W and bias b as tensors  #\n",
    "#####################################################\n",
    "W = torch.tensor(0.3, dtype=torch.float32, requires_grad=True)\n",
    "b = torch.tensor(-0.3, dtype=torch.float32, requires_grad=True)\n",
    "\n",
    "#####################################################\n",
    "#              TASK: Define the model               #\n",
    "#####################################################\n",
    "def model(x):\n",
    "    y_pred = W * x + b\n",
    "    return y_pred\n",
    "\n",
    "#####################################################\n",
    "#    TASK: Define the loss: Quadratic loss (MSE)    #\n",
    "#####################################################\n",
    "def loss_function(y_pred, y):\n",
    "    loss = ((y - y_pred)**2).mean()\n",
    "    return loss\n",
    "\n",
    "\n",
    "#####################################################\n",
    "# You don't need to modify the code below this line #\n",
    "#####################################################\n",
    "\n",
    "# Define an array to store the loss\n",
    "loss_arr = []\n",
    "\n",
    "# And now lets run our model - for 100 iterations\n",
    "lr = 0.01\n",
    "iterations = 100\n",
    "\n",
    "#Training loop\n",
    "for iteration in range(iterations):\n",
    "    #Forward pass\n",
    "    y_pred = model(x)\n",
    "    \n",
    "    #Compute the loss\n",
    "    loss = loss_function(y_pred, y)\n",
    "    loss_arr.append(loss.item())\n",
    "    \n",
    "    #Backward pass\n",
    "    loss.backward()\n",
    "    \n",
    "    #Update the weights and bias\n",
    "    with torch.no_grad():\n",
    "        W -= lr * W.grad\n",
    "        b -= lr * b.grad\n",
    "\n",
    "        # Manually zero the gradients after the update\n",
    "        W.grad.zero_()\n",
    "        b.grad.zero_()\n",
    "\n",
    "    if iteration % 10 == 0:\n",
    "        print(f'Iteration: {iteration:3d} | Loss: {loss.item()}')\n",
    "print(f'Iteration: {iteration:3d} | Loss: {loss.item()}')\n",
    "\n",
    "\n",
    "# Let's evaluate the variables (W,b)\n",
    "print(\"=\"*45)\n",
    "print(f\"Estimated parameters:  W: {W.item():.3f}  |  b: {b.item():.3f}\")"
   ]
  },
  {
   "cell_type": "code",
   "execution_count": 3,
   "metadata": {},
   "outputs": [
    {
     "data": {
      "text/plain": [
       "<function matplotlib.pyplot.show(close=None, block=None)>"
      ]
     },
     "execution_count": 3,
     "metadata": {},
     "output_type": "execute_result"
    },
    {
     "data": {
      "image/png": "[encoded data removed]",
      "text/plain": [
       "<Figure size 640x480 with 1 Axes>"
      ]
     },
     "metadata": {},
     "output_type": "display_data"
    }
   ],
   "source": [
    "# Let's see how the loss behaves\n",
    "\n",
    "import matplotlib.pyplot as plt\n",
    "\n",
    "plt.plot(loss_arr, 'r')\n",
    "plt.title(f'Loss over {iterations} iterations')\n",
    "plt.xlabel('Iterations')\n",
    "plt.ylabel('Loss')\n",
    "plt.show"
   ]
  },
  {
   "cell_type": "code",
   "execution_count": 4,
   "metadata": {},
   "outputs": [
    {
     "data": {
      "image/png": "[encoded data removed]",
      "text/plain": [
       "<Figure size 1000x600 with 1 Axes>"
      ]
     },
     "metadata": {},
     "output_type": "display_data"
    }
   ],
   "source": [
    "#####################################################\n",
    "#              TASK: Visualize the Model            #\n",
    "# scatter the actual data points and plot the model #\n",
    "#         include the figure in your report         #\n",
    "#####################################################\n",
    "plt.figure(figsize=(10, 6))\n",
    "\n",
    "plt.scatter(x, y, color='blue', s=100, edgecolor='black', alpha=0.6, label='Actual data points')\n",
    "\n",
    "plt.plot(x, model(x).detach().numpy(), 'r', linewidth=2, label='Fitted line')\n",
    "\n",
    "plt.title('Model Visualization', fontsize=20)\n",
    "plt.xlabel('X', fontsize=15)\n",
    "plt.ylabel('Y', fontsize=15)\n",
    "\n",
    "plt.xticks(fontsize=12)\n",
    "plt.yticks(fontsize=12)\n",
    "\n",
    "plt.grid(True)\n",
    "plt.legend(fontsize=12)\n",
    "\n",
    "plt.show()"
   ]
  },
  {
   "cell_type": "markdown",
   "metadata": {},
   "source": [
    "## Questions\n",
    "Answer the following questions in your report:\n",
    "- **Q1:** In PyTorch, the computational graph is dynamic. Can you explain what this means in terms of how the graph is constructed and utilized?\n",
    "- **Q2:** How does a dynamic computational graph compare to static graphs? What are the advantages and disadvantages of each approach?\n",
    "- **Q3:** Why did we use `w.grad.zero_()` and `b.grad.zero_()` in our code? Are they necessary for proper program execution?\n",
    "- **Q4:** What is the purpose of `torch.no_grad` and why did we use it in our code?"
   ]
  },
  {
   "cell_type": "markdown",
   "metadata": {},
   "source": [
    "---\n",
    "# **Part 2: Computational graphs and custom gradients**\n",
    "`torch.autograd` provides classes and functions implementing automatic differentiation of arbitrary scalar valued functions.\n",
    "\n",
    "\n",
    "It also provides a mechanism for defining custom autograd functions using the `torch.autograd.Function` class. In this part, we will utilize this mechanism to define our own functions.\n",
    "\n",
    "Additional Reading Material:\n",
    "- [torch.autograd.Function](https://pytorch.org/docs/stable/autograd.html#function)\n",
    "- [PyTorch: Defining New autograd Functions](https://pytorch.org/tutorials/beginner/examples_autograd/two_layer_net_custom_function.html)\n",
    "- [Double Backward with custom functions](https://pytorch.org/tutorials/intermediate/custom_function_double_backward_tutorial.html)"
   ]
  },
  {
   "cell_type": "markdown",
   "metadata": {},
   "source": [
    "## Example: Defining a custom gradient\n",
    "\n",
    "- Specify the forward and backward operations for $f(x) = \\ln(e^x+1)$ \n",
    "\n",
    "Reminder: $$f'(x)= \\frac{e^x}{e^x+1} = \\frac{e^x +1-1}{e^x+1} = \\frac{e^x+1}{e^x+1} - \\frac{1}{e^x+1} = 1 -\\frac{1}{e^x+1}$$\n",
    "We will use this formula for numerical stability"
   ]
  },
  {
   "cell_type": "code",
   "execution_count": 5,
   "metadata": {},
   "outputs": [
    {
     "name": "stdout",
     "output_type": "stream",
     "text": [
      "The value of f(x) is: 10.00005\n",
      "The gradient df/dx is: 0.99995\n"
     ]
    }
   ],
   "source": [
    "class Log1pexp(torch.autograd.Function):\n",
    "    \"\"\"\n",
    "    We can implement our own custom autograd Functions by subclassing\n",
    "    torch.autograd.Function and implementing the forward and backward passes\n",
    "    which operate on Tensors.\n",
    "    \"\"\"\n",
    "    \n",
    "    @staticmethod\n",
    "    def forward(ctx, x):\n",
    "        \"\"\"\n",
    "        In the forward pass we receive a Tensor containing the input and return\n",
    "        a Tensor containing the output. ctx is a context object that can be used\n",
    "        to stash information for backward computation. You can cache arbitrary\n",
    "        objects for use in the backward pass using the ctx.save_for_backward method.\n",
    "        \"\"\"\n",
    "        e_plus_one = torch.exp(x) + 1\n",
    "        # Save tensor 'one_plus_e' for use in backward pass\n",
    "        ctx.save_for_backward(e_plus_one)\n",
    "        return torch.log(e_plus_one)\n",
    "\n",
    "    @staticmethod\n",
    "    def backward(ctx, grad_output):\n",
    "        \"\"\"\n",
    "        In the backward pass we receive a Tensor containing the gradient of the loss\n",
    "        with respect to the output, and we need to compute the gradient of the loss\n",
    "        with respect to the input.\n",
    "        \"\"\"\n",
    "        e_plus_one, = ctx.saved_tensors\n",
    "        grad_input = grad_output * (1 - 1/e_plus_one)\n",
    "        return grad_input\n",
    "\n",
    "# Define our input\n",
    "x = torch.tensor(10., requires_grad=True)\n",
    "\n",
    "# Call the custom autograd function\n",
    "f_x = Log1pexp.apply(x)\n",
    "\n",
    "# Calculate gradient\n",
    "f_x.backward()\n",
    "\n",
    "# Print the results\n",
    "print(f\"The value of f(x) is: {f_x.item():.5f}\")\n",
    "print(f\"The gradient df/dx is: {x.grad.item():.5f}\")"
   ]
  },
  {
   "cell_type": "markdown",
   "metadata": {},
   "source": [
    "Define the forward pass of function $f(x) = x^3+1$, and the 1st and 2nd order derivatives\n",
    "$$f'(x)=3x^2 \\qquad f''(x)=6x$$"
   ]
  },
  {
   "cell_type": "code",
   "execution_count": 6,
   "metadata": {},
   "outputs": [
    {
     "name": "stdout",
     "output_type": "stream",
     "text": [
      "The value of f(x) is: 1001.0\n",
      "The first-order derivative df/dx is: 300.0\n",
      "The second-order derivative d^2f/dx^2 is: 60.0\n"
     ]
    }
   ],
   "source": [
    "class CubePlusOne(torch.autograd.Function):\n",
    "    @staticmethod\n",
    "    def forward(ctx, x):\n",
    "        # Because we are saving one of the inputs, use `save_for_backward`\n",
    "        # if we need to save non-inputs/non-outputs, it is more complicated\n",
    "        ctx.save_for_backward(x)\n",
    "        return x**3 + 1\n",
    "\n",
    "    @staticmethod\n",
    "    def backward(ctx, grad_out):\n",
    "        # A function support double backward automatically if autograd\n",
    "        # is able to record the computations performed in backward\n",
    "        # so, if f'(x) is differentiable, autograd can compute f''(x)\n",
    "        x, = ctx.saved_tensors\n",
    "        return grad_out * (3 * x**2)\n",
    "    \n",
    "x = torch.tensor(10.0, requires_grad=True)\n",
    "\n",
    "f = CubePlusOne.apply(x)\n",
    "# Compute first-order derivative\n",
    "grad_f = torch.autograd.grad(f, x, create_graph=True)[0]\n",
    "# Compute second-order derivative\n",
    "grad_grad_f = torch.autograd.grad(grad_f, x)[0]\n",
    "\n",
    "# Print the results\n",
    "print(\"The value of f(x) is:\", f.item())\n",
    "print(\"The first-order derivative df/dx is:\", grad_f.item())\n",
    "print(\"The second-order derivative d^2f/dx^2 is:\", grad_grad_f.item())"
   ]
  },
  {
   "cell_type": "markdown",
   "metadata": {},
   "source": [
    "## **Assignment:**\n",
    "\n",
    "### Part 2.A:\n",
    "  - **Question**: Describe briefly the concepts of **backpropagation**, **local gradients** and **upstream gradient** in your report.\n",
    "\n",
    "### Part 2.B: \n",
    "  - Implement the following functions and the requested tasks"
   ]
  },
  {
   "cell_type": "markdown",
   "metadata": {},
   "source": [
    "**One-variable function:**\n",
    "\n",
    "Let $$y(x) = \\frac{\\sin(x)}{x}$$\n",
    "\n",
    "with derivative:\n",
    "$$\\frac{dy}{dx} = \\frac{x\\cos(x)-\\sin(x)}{x^2}$$\n",
    "\n",
    "1. Design the computational graph (in your report)\n",
    "2. Compute the derivative for the back propagation process by hand (include the computations in your report)\n",
    "3.  Compute the forward operation and the corresponding backward operation\n",
    "using the `torch.autograd.Function` class"
   ]
  },
  {
   "cell_type": "code",
   "execution_count": 7,
   "metadata": {},
   "outputs": [
    {
     "name": "stdout",
     "output_type": "stream",
     "text": [
      "y = -0.0544\n",
      "dy/dx = -0.0785\n"
     ]
    }
   ],
   "source": [
    "#########################\n",
    "# TO DO:                #\n",
    "# - define forward pass #\n",
    "# - define gradient     #\n",
    "#########################\n",
    "\n",
    "class Sin_underX(torch.autograd.Function):\n",
    "    @staticmethod\n",
    "    def forward(ctx, x):\n",
    "        ################################\n",
    "        # CODE START f(x)              #\n",
    "        ################################\n",
    "        ctx.save_for_backward(x)\n",
    "        func_fx = torch.sin(x) / x\n",
    "        ################################\n",
    "        # CODE END                     #\n",
    "        ################################\n",
    "        return func_fx\n",
    "\n",
    "    @staticmethod\n",
    "    def backward(ctx, grad_out):\n",
    "        ################################\n",
    "        # CODE START f'(x)             #\n",
    "        ################################\n",
    "        x, = ctx.saved_tensors\n",
    "        grad_result = (x * torch.cos(x) - torch.sin(x)) / (x**2)\n",
    "        ################################\n",
    "        # CODE END                     #\n",
    "        ################################\n",
    "        return grad_out * grad_result\n",
    "\n",
    "# Evaluate it with x = 10\n",
    "x = torch.tensor(10.0, requires_grad=True)\n",
    "\n",
    "###############################################################\n",
    "# TODO print the values of y and dy/dx up to 4 decimal places #\n",
    "#   expected values:  y = -0.0544     |     dy/dx = -0.0785   #\n",
    "###############################################################\n",
    "sin_under_x = Sin_underX.apply\n",
    "\n",
    "y = sin_under_x(x)\n",
    "y.backward()\n",
    "\n",
    "print(f'y = {y.item():.4f}')\n",
    "print(f'dy/dx = {x.grad.item():.4f}')"
   ]
  },
  {
   "cell_type": "markdown",
   "metadata": {},
   "source": [
    "**Two-variable function**:\n",
    "\n",
    "Let $f(x,y) = a x^2 +b x y+c y^2$\n",
    "\n",
    "1. Design the computational graph by hand and include it in your report\n",
    "2. Include the partial derivatives $\\frac{\\partial f}{\\partial x}$, $\\frac{\\partial f}{\\partial y}$ in your report\n",
    "2. Compute the forward operation and the corresponding backward operation\n",
    "using the `torch.autograd.Function` class"
   ]
  },
  {
   "cell_type": "code",
   "execution_count": 8,
   "metadata": {},
   "outputs": [
    {
     "name": "stdout",
     "output_type": "stream",
     "text": [
      "f = 55.00\n",
      "df/dx = 16.00\n",
      "df/dy = 26.00\n"
     ]
    }
   ],
   "source": [
    "class Bar(torch.autograd.Function):\n",
    "    @staticmethod\n",
    "    def forward(ctx, x, y):\n",
    "        ctx.a, ctx.b, ctx.c = 1.0, 4.0, 3.0\n",
    "        a, b, c = ctx.a, ctx.b, ctx.c\n",
    "        ################################\n",
    "        # CODE START f(x,y)            #\n",
    "        ################################\n",
    "        f = a * x**2 + b * x * y + c * y**2\n",
    "        ctx.save_for_backward(x, y)\n",
    "        ################################\n",
    "        # CODE END                     #\n",
    "        ################################\n",
    "        return f\n",
    "\n",
    "    @staticmethod\n",
    "    def backward(ctx, grad_out):\n",
    "        a, b, c = ctx.a, ctx.b, ctx.c\n",
    "        ################################\n",
    "        # CODE START df/dx, df/dy      #\n",
    "        ################################\n",
    "        x, y = ctx.saved_tensors\n",
    "        df_dx = 2 * a * x + b * y\n",
    "        df_dy = b * x + 2 * c * y\n",
    "        ################################\n",
    "        # CODE END                     #\n",
    "        ################################\n",
    "        return grad_out * df_dx, grad_out * df_dy\n",
    "\n",
    "\n",
    "# Evaluate it with x=2 and y=3\n",
    "x = torch.tensor(2.0, requires_grad=True)\n",
    "y = torch.tensor(3.0, requires_grad=True)\n",
    "\n",
    "###################################################################\n",
    "# TODO print the values of f, df/dx, df/dy up to 2 decimal places #\n",
    "#    expected values:  f=55.00  |  df/dx=16.00  | df/dy=26.00     #\n",
    "###################################################################\n",
    "f = Bar.apply(x, y)\n",
    "f.backward()\n",
    "\n",
    "print(f'f = {f.item():.2f}')\n",
    "print(f'df/dx = {x.grad.item():.2f}')\n",
    "print(f'df/dy = {y.grad.item():.2f}')"
   ]
  },
  {
   "cell_type": "markdown",
   "metadata": {},
   "source": [
    "**Second-order derivative**:\n",
    "\n",
    "For the function $f(x) = \\ln(1+e^x)$\n",
    "\n",
    "1. Design the computational graph (include it in your report).\n",
    "2. Define the forward pass\n",
    "3. Define the operations that compute the 1st derivative $f'(x)$\n",
    "4. Define the operations that compute the 2nd derivative $f''(x)$ (and include them in your report)\n",
    "\n",
    "Evaluate for $x = 10$, and print the results"
   ]
  },
  {
   "cell_type": "code",
   "execution_count": 28,
   "metadata": {},
   "outputs": [
    {
     "name": "stdout",
     "output_type": "stream",
     "text": [
      "f=10.00005\n",
      "df/dx=0.99995\n",
      "df''/dx=0.000045\n"
     ]
    }
   ],
   "source": [
    "################################\n",
    "# CODE START                   #\n",
    "################################\n",
    "\n",
    "class Log1_Exp(torch.autograd.Function):\n",
    "    @staticmethod\n",
    "    def forward(ctx, x):\n",
    "        ctx.save_for_backward(x)\n",
    "        return torch.log(1 + torch.exp(x))\n",
    "\n",
    "    @staticmethod\n",
    "    def backward(ctx, grad_output):\n",
    "        x, = ctx.saved_tensors\n",
    "        grad_x = torch.exp(x) / (1 + torch.exp(x))\n",
    "        return grad_output * grad_x\n",
    "\n",
    "x = torch.tensor(10.0, requires_grad=True)\n",
    "f = Log1_Exp.apply(x)\n",
    "f.backward()\n",
    "\n",
    "print(f\"f={f.item():.5f}\")\n",
    "print(f\"df/dx={x.grad.item():.5f}\")\n",
    "\n",
    "# Compute the second derivative\n",
    "x.grad.zero_()\n",
    "f = Log1_Exp.apply(x)\n",
    "grad_f = torch.autograd.grad(f, x, create_graph=True)[0]\n",
    "grad_f.backward()\n",
    "\n",
    "print(f\"df''/dx={x.grad.item():.6f}\")\n",
    "################################\n",
    "# CODE END                     #\n",
    "################################"
   ]
  }
 ],
 "metadata": {
  "kernelspec": {
   "display_name": "cs587",
   "language": "python",
   "name": "python3"
  },
  "language_info": {
   "codemirror_mode": {
    "name": "ipython",
    "version": 3
   },
   "file_extension": ".py",
   "mimetype": "text/x-python",
   "name": "python",
   "nbconvert_exporter": "python",
   "pygments_lexer": "ipython3",
   "version": "3.10.13"
  }
 },
 "nbformat": 4,
 "nbformat_minor": 2
}
