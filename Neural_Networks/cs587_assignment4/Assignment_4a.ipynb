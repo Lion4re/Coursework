{
 "cells": [
  {
   "cell_type": "markdown",
   "metadata": {},
   "source": [
    "# CS587:  Neural Networks & Learning of Hierarchical Representation\n",
    "## Assignment 4a\n",
    "### Vasileios Papageridis - csd4710\n",
    "\n",
    "---"
   ]
  },
  {
   "cell_type": "markdown",
   "metadata": {},
   "source": [
    "# CS - 587 : Exercise 4a ~ Transfer Learning\n",
    "## Scope:\n",
    "The goal of this assignment is to get familiar with fine-tunning in a new dataset a Convolutional Neural Network (CNN) that has been trained in another dataset, taking advantage of transfer learning.\n",
    "\n",
    "In your assignment you will be fine-tunning **AlexNet**, a popular CNN architecture, that has been pretrained on the ImageNet dataset. Your network will be finetuned for the task of recognizing art painting categories in a large dataset of art painting images, known as Wikiart.\n",
    "\n",
    "The WikiArt dataset, which consists of `3000 images of paintings` of arbitrary sizes `from 10 different styles` - Baroque, Realism, Expressionism, etc."
   ]
  },
  {
   "cell_type": "code",
   "execution_count": 2,
   "metadata": {},
   "outputs": [
    {
     "name": "stdout",
     "output_type": "stream",
     "text": [
      "Using device: cuda\n"
     ]
    }
   ],
   "source": [
    "import os\n",
    "import torch\n",
    "import torch.nn as nn\n",
    "import torch.nn.functional as F\n",
    "import torch.optim as optim\n",
    "\n",
    "from torch.utils.data import DataLoader\n",
    "\n",
    "import torchvision.transforms as transforms\n",
    "import torchvision.models as models\n",
    "\n",
    "from torch.utils.tensorboard import SummaryWriter\n",
    "\n",
    "device = torch.device('cuda' if torch.cuda.is_available() else 'cpu')\n",
    "print('Using device:', device)"
   ]
  },
  {
   "cell_type": "code",
   "execution_count": 2,
   "metadata": {},
   "outputs": [
    {
     "name": "stdout",
     "output_type": "stream",
     "text": [
      "Training set: 3177 images\n",
      "Test set: 784 images\n"
     ]
    }
   ],
   "source": [
    "from Utilities.wikiart_dataset import WikiArtDataset\n",
    "\n",
    "train_annotations = os.path.join('Utilities', 'data', 'train.txt')\n",
    "test_annotations = os.path.join('Utilities', 'data', 'test.txt')\n",
    "\n",
    "preprocess = transforms.Compose([\n",
    "    transforms.Resize(256),\n",
    "    transforms.CenterCrop(224),\n",
    "    transforms.ToTensor(),\n",
    "    transforms.Normalize(mean=[0.485, 0.456, 0.406], std=[0.229, 0.224, 0.225]),\n",
    "])\n",
    "\n",
    "train_set = WikiArtDataset(train_annotations, preprocess)\n",
    "test_set = WikiArtDataset(test_annotations, preprocess)\n",
    "print(f\"Training set: {len(train_set)} images\")\n",
    "print(f\"Test set: {len(test_set)} images\")"
   ]
  },
  {
   "cell_type": "code",
   "execution_count": 3,
   "metadata": {},
   "outputs": [],
   "source": [
    "# Learning params\n",
    "learning_rate = 0.01\n",
    "num_epochs = 5\n",
    "batch_size = 128\n",
    "\n",
    "# Network params\n",
    "num_classes = 10"
   ]
  },
  {
   "cell_type": "markdown",
   "metadata": {},
   "source": [
    "# Pretrained Model\n",
    "For all of our image generation experiments, we will start with a convolutional neural network which was pretrained to perform image classification on ImageNet. We can use any model here, but for the purposes of this assignment we will use AlexNet"
   ]
  },
  {
   "cell_type": "code",
   "execution_count": 4,
   "metadata": {},
   "outputs": [
    {
     "name": "stderr",
     "output_type": "stream",
     "text": [
      "Downloading: \"https://download.pytorch.org/models/alexnet-owt-7be5be79.pth\" to C:\\Users\\billi/.cache\\torch\\hub\\checkpoints\\alexnet-owt-7be5be79.pth\n",
      "100%|██████████| 233M/233M [00:43<00:00, 5.61MB/s] "
     ]
    },
    {
     "name": "stdout",
     "output_type": "stream",
     "text": [
      "AlexNet(\n",
      "  (features): Sequential(\n",
      "    (0): Conv2d(3, 64, kernel_size=(11, 11), stride=(4, 4), padding=(2, 2))\n",
      "    (1): ReLU(inplace=True)\n",
      "    (2): MaxPool2d(kernel_size=3, stride=2, padding=0, dilation=1, ceil_mode=False)\n",
      "    (3): Conv2d(64, 192, kernel_size=(5, 5), stride=(1, 1), padding=(2, 2))\n",
      "    (4): ReLU(inplace=True)\n",
      "    (5): MaxPool2d(kernel_size=3, stride=2, padding=0, dilation=1, ceil_mode=False)\n",
      "    (6): Conv2d(192, 384, kernel_size=(3, 3), stride=(1, 1), padding=(1, 1))\n",
      "    (7): ReLU(inplace=True)\n",
      "    (8): Conv2d(384, 256, kernel_size=(3, 3), stride=(1, 1), padding=(1, 1))\n",
      "    (9): ReLU(inplace=True)\n",
      "    (10): Conv2d(256, 256, kernel_size=(3, 3), stride=(1, 1), padding=(1, 1))\n",
      "    (11): ReLU(inplace=True)\n",
      "    (12): MaxPool2d(kernel_size=3, stride=2, padding=0, dilation=1, ceil_mode=False)\n",
      "  )\n",
      "  (avgpool): AdaptiveAvgPool2d(output_size=(6, 6))\n",
      "  (classifier): Sequential(\n",
      "    (0): Dropout(p=0.5, inplace=False)\n",
      "    (1): Linear(in_features=9216, out_features=4096, bias=True)\n",
      "    (2): ReLU(inplace=True)\n",
      "    (3): Dropout(p=0.5, inplace=False)\n",
      "    (4): Linear(in_features=4096, out_features=4096, bias=True)\n",
      "    (5): ReLU(inplace=True)\n",
      "    (6): Linear(in_features=4096, out_features=1000, bias=True)\n",
      "  )\n",
      ")\n"
     ]
    },
    {
     "name": "stderr",
     "output_type": "stream",
     "text": [
      "\n"
     ]
    }
   ],
   "source": [
    "# load the alexnet model pretrained on ImageNet\n",
    "alexnet = models.alexnet(weights='IMAGENET1K_V1')\n",
    "\n",
    "# freeze the feature parameters\n",
    "for param in alexnet.parameters():\n",
    "    param.requires_grad = False\n",
    "\n",
    "print(alexnet)"
   ]
  },
  {
   "cell_type": "code",
   "execution_count": 5,
   "metadata": {},
   "outputs": [
    {
     "name": "stdout",
     "output_type": "stream",
     "text": [
      "AlexNet(\n",
      "  (features): Sequential(\n",
      "    (0): Conv2d(3, 64, kernel_size=(11, 11), stride=(4, 4), padding=(2, 2))\n",
      "    (1): ReLU(inplace=True)\n",
      "    (2): MaxPool2d(kernel_size=3, stride=2, padding=0, dilation=1, ceil_mode=False)\n",
      "    (3): Conv2d(64, 192, kernel_size=(5, 5), stride=(1, 1), padding=(2, 2))\n",
      "    (4): ReLU(inplace=True)\n",
      "    (5): MaxPool2d(kernel_size=3, stride=2, padding=0, dilation=1, ceil_mode=False)\n",
      "    (6): Conv2d(192, 384, kernel_size=(3, 3), stride=(1, 1), padding=(1, 1))\n",
      "    (7): ReLU(inplace=True)\n",
      "    (8): Conv2d(384, 256, kernel_size=(3, 3), stride=(1, 1), padding=(1, 1))\n",
      "    (9): ReLU(inplace=True)\n",
      "    (10): Conv2d(256, 256, kernel_size=(3, 3), stride=(1, 1), padding=(1, 1))\n",
      "    (11): ReLU(inplace=True)\n",
      "    (12): MaxPool2d(kernel_size=3, stride=2, padding=0, dilation=1, ceil_mode=False)\n",
      "  )\n",
      "  (avgpool): AdaptiveAvgPool2d(output_size=(6, 6))\n",
      "  (classifier): Sequential(\n",
      "    (0): Dropout(p=0.5, inplace=False)\n",
      "    (1): Linear(in_features=9216, out_features=4096, bias=True)\n",
      "    (2): ReLU(inplace=True)\n",
      "    (3): Dropout(p=0.5, inplace=False)\n",
      "    (4): Linear(in_features=4096, out_features=4096, bias=True)\n",
      "    (5): ReLU(inplace=True)\n",
      "    (6): Linear(in_features=4096, out_features=10, bias=True)\n",
      "  )\n",
      ")\n"
     ]
    }
   ],
   "source": [
    "##############################################################################################\n",
    "# TODO: Modify the model architecture:                                                       #\n",
    "# 1. Replace the last Fully-Connected (linear) layer with a new linear layer                 #\n",
    "# 2. Replace the last 2 Fully-Connected layers with a new linear layer                       #\n",
    "# Hint: You can access the layers of the model using alexnet.features and alexnet.classifier #\n",
    "# Hint: You can access multiple layers of the classifier using alexnet.classifier.children() #\n",
    "# Hint: You can remove layers using list slicing with the appropriate indices                #\n",
    "# Hint: You can add layers using add_module()                                                #\n",
    "##############################################################################################\n",
    "\n",
    "num_layers_to_remove = 1\n",
    "if num_layers_to_remove == 1:\n",
    "    #############################################################\n",
    "    # TODO: remove the last linear layer and add new classifier #\n",
    "    #############################################################\n",
    "    num_features = alexnet.classifier[6].in_features\n",
    "    alexnet.classifier[6] = nn.Linear(num_features, num_classes)\n",
    "elif num_layers_to_remove == 2:\n",
    "    ##################################################################\n",
    "    # TODO: remove the last 2 linear layers and add a new classifier #\n",
    "    ##################################################################\n",
    "    num_features = alexnet.classifier[4].in_features\n",
    "\n",
    "    new_classifier = nn.Sequential(\n",
    "        *alexnet.classifier[:-2],\n",
    "        nn.Linear(num_features, num_classes)\n",
    "    )\n",
    "\n",
    "    alexnet.classifier = new_classifier\n",
    "\n",
    "alexnet = alexnet.to(device)\n",
    "print(alexnet)"
   ]
  },
  {
   "cell_type": "code",
   "execution_count": 10,
   "metadata": {},
   "outputs": [],
   "source": [
    "##################################################################\n",
    "# TODO: Implement the following:                                 #\n",
    "# (a) the train and test data loaders                            #\n",
    "# (b) losss function (Soft-max Cross Entropy)                    #\n",
    "# (c) the optimization process using Stochastic Gradient Descent #\n",
    "# Create summaries in tensorboard for:                           #\n",
    "#  - the loss                                                    #\n",
    "#  - the accuracy                                                #\n",
    "##################################################################\n",
    "train_loader = DataLoader(train_set, batch_size=batch_size, shuffle=True)\n",
    "test_loader = DataLoader(test_set, batch_size=batch_size, shuffle=False)\n",
    "loss = nn.CrossEntropyLoss()\n",
    "optimizer = optim.SGD(alexnet.parameters(), lr=learning_rate)\n",
    "\n",
    "def accuracy(model, data_loader):\n",
    "    model.to(device)\n",
    "    model.eval()\n",
    "    correct = 0\n",
    "    total = 0\n",
    "    with torch.no_grad():\n",
    "        for images, labels in data_loader:\n",
    "            images, labels = images.to(device), labels.to(device)\n",
    "            outputs = model(images)\n",
    "            _, predicted = torch.max(outputs.data, 1)\n",
    "            total += labels.size(0)\n",
    "            correct += (predicted == labels).sum().item()\n",
    "    return correct / total"
   ]
  },
  {
   "cell_type": "code",
   "execution_count": 11,
   "metadata": {},
   "outputs": [
    {
     "name": "stdout",
     "output_type": "stream",
     "text": [
      "Epoch 1/5, train accuracy: 0.448 test accuracy: 0.346\n",
      "Epoch 2/5, train accuracy: 0.519 test accuracy: 0.389\n",
      "Epoch 3/5, train accuracy: 0.560 test accuracy: 0.413\n",
      "Epoch 4/5, train accuracy: 0.589 test accuracy: 0.388\n",
      "Epoch 5/5, train accuracy: 0.658 test accuracy: 0.409\n"
     ]
    }
   ],
   "source": [
    "########################################\n",
    "# TODO: use ΤensorΒoard to visualize   #\n",
    "# the computational graph of the model #\n",
    "########################################\n",
    "writer = SummaryWriter('runs/AlexNet_FineTuning')\n",
    "\n",
    "for epoch in range(num_epochs):\n",
    "    for i, (images, labels) in enumerate(train_loader):\n",
    "        images = images.to(device)\n",
    "        labels = labels.to(device)\n",
    "        ###########################################################################\n",
    "        # TODO: backpropagation process (forward, loss, backward, update weights) #\n",
    "        ###########################################################################\n",
    "        pred = alexnet(images)\n",
    "        loss_val = loss(pred, labels)\n",
    "\n",
    "        optimizer.zero_grad()\n",
    "        loss_val.backward()\n",
    "        optimizer.step()\n",
    "        ##########################################################\n",
    "        # TODO: use TensorBoard to visualize for each iteration: #\n",
    "        #        - the training loss                             #\n",
    "        ##########################################################\n",
    "        writer.add_scalar('training loss', loss_val.item(), epoch * len(train_loader) + i)\n",
    "\n",
    "    ###########################################################\n",
    "    # TODO: calculate the accuracy for the train and test set #\n",
    "    ###########################################################\n",
    "    acc_train = accuracy(alexnet, train_loader)\n",
    "    acc_test = accuracy(alexnet, test_loader)\n",
    "    print(f\"Epoch {epoch+1}/{num_epochs}, train accuracy: {acc_train:.3f} test accuracy: {acc_test:.3f}\")\n",
    "    ######################################################\n",
    "    # TODO: use TensorBoard to visualize for each epoch: #\n",
    "    #       the train & test accuracy                    #\n",
    "    ######################################################\n",
    "    writer.add_scalar('Accuracy/Train', acc_train, epoch)\n",
    "    writer.add_scalar('Accuracy/Test', acc_test, epoch)"
   ]
  }
 ],
 "metadata": {
  "kernelspec": {
   "display_name": "cs587",
   "language": "python",
   "name": "python3"
  },
  "language_info": {
   "codemirror_mode": {
    "name": "ipython",
    "version": 3
   },
   "file_extension": ".py",
   "mimetype": "text/x-python",
   "name": "python",
   "nbconvert_exporter": "python",
   "pygments_lexer": "ipython3",
   "version": "3.11.8"
  }
 },
 "nbformat": 4,
 "nbformat_minor": 2
}
