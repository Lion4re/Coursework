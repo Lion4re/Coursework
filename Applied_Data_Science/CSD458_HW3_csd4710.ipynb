{
  "cells": [
    {
      "cell_type": "markdown",
      "metadata": {
        "colab_type": "text",
        "id": "view-in-github"
      },
      "source": [
        "<a href=\"https://colab.research.google.com/github/gtsagkatakis/Data-Science-and-Applications/blob/main/CSD458_HW3.ipynb\" target=\"_parent\"><img src=\"https://colab.research.google.com/assets/colab-badge.svg\" alt=\"Open In Colab\"/></a>"
      ]
    },
    {
      "cell_type": "markdown",
      "metadata": {},
      "source": [
        "# CS485: Data Science and Applications\n",
        "## Assignment 3\n",
        "### Vasileios Papageridis - csd4710\n",
        "\n",
        "---"
      ]
    },
    {
      "cell_type": "markdown",
      "metadata": {
        "id": "-wK0lGVzh7A2"
      },
      "source": [
        "# HOMEWORK 3: Classifying Wines with Support Vector Machines (SVM)\n",
        "\n",
        "The objective of this exercise is to build and evaluate a Support Vector Machine (SVM) model for classifying wines based on their chemical properties using the Wine dataset available in scikit-learn. You will explore various aspects of SVM model training and optimization, including preprocessing steps, hyperparameter tuning, and kernel selection.\n",
        "\n",
        "\n",
        "\n",
        "\n",
        "\n"
      ]
    },
    {
      "cell_type": "markdown",
      "metadata": {
        "id": "5arhNMQZlaOT"
      },
      "source": [
        "# Loading the Dataset\n",
        "\n",
        "Load the Wine dataset using load_wine from sklearn.datasets.\n",
        "Inspect the dataset to understand its structure and features."
      ]
    },
    {
      "cell_type": "code",
      "execution_count": 2,
      "metadata": {
        "id": "jG1t5gP0hqBJ"
      },
      "outputs": [
        {
          "data": {
            "text/html": [
              "<div>\n",
              "<style scoped>\n",
              "    .dataframe tbody tr th:only-of-type {\n",
              "        vertical-align: middle;\n",
              "    }\n",
              "\n",
              "    .dataframe tbody tr th {\n",
              "        vertical-align: top;\n",
              "    }\n",
              "\n",
              "    .dataframe thead th {\n",
              "        text-align: right;\n",
              "    }\n",
              "</style>\n",
              "<table border=\"1\" class=\"dataframe\">\n",
              "  <thead>\n",
              "    <tr style=\"text-align: right;\">\n",
              "      <th></th>\n",
              "      <th>alcohol</th>\n",
              "      <th>malic_acid</th>\n",
              "      <th>ash</th>\n",
              "      <th>alcalinity_of_ash</th>\n",
              "      <th>magnesium</th>\n",
              "      <th>total_phenols</th>\n",
              "      <th>flavanoids</th>\n",
              "      <th>nonflavanoid_phenols</th>\n",
              "      <th>proanthocyanins</th>\n",
              "      <th>color_intensity</th>\n",
              "      <th>hue</th>\n",
              "      <th>od280/od315_of_diluted_wines</th>\n",
              "      <th>proline</th>\n",
              "      <th>species</th>\n",
              "    </tr>\n",
              "  </thead>\n",
              "  <tbody>\n",
              "    <tr>\n",
              "      <th>0</th>\n",
              "      <td>14.23</td>\n",
              "      <td>1.71</td>\n",
              "      <td>2.43</td>\n",
              "      <td>15.6</td>\n",
              "      <td>127.0</td>\n",
              "      <td>2.80</td>\n",
              "      <td>3.06</td>\n",
              "      <td>0.28</td>\n",
              "      <td>2.29</td>\n",
              "      <td>5.64</td>\n",
              "      <td>1.04</td>\n",
              "      <td>3.92</td>\n",
              "      <td>1065.0</td>\n",
              "      <td>0.0</td>\n",
              "    </tr>\n",
              "    <tr>\n",
              "      <th>1</th>\n",
              "      <td>13.20</td>\n",
              "      <td>1.78</td>\n",
              "      <td>2.14</td>\n",
              "      <td>11.2</td>\n",
              "      <td>100.0</td>\n",
              "      <td>2.65</td>\n",
              "      <td>2.76</td>\n",
              "      <td>0.26</td>\n",
              "      <td>1.28</td>\n",
              "      <td>4.38</td>\n",
              "      <td>1.05</td>\n",
              "      <td>3.40</td>\n",
              "      <td>1050.0</td>\n",
              "      <td>0.0</td>\n",
              "    </tr>\n",
              "    <tr>\n",
              "      <th>2</th>\n",
              "      <td>13.16</td>\n",
              "      <td>2.36</td>\n",
              "      <td>2.67</td>\n",
              "      <td>18.6</td>\n",
              "      <td>101.0</td>\n",
              "      <td>2.80</td>\n",
              "      <td>3.24</td>\n",
              "      <td>0.30</td>\n",
              "      <td>2.81</td>\n",
              "      <td>5.68</td>\n",
              "      <td>1.03</td>\n",
              "      <td>3.17</td>\n",
              "      <td>1185.0</td>\n",
              "      <td>0.0</td>\n",
              "    </tr>\n",
              "    <tr>\n",
              "      <th>3</th>\n",
              "      <td>14.37</td>\n",
              "      <td>1.95</td>\n",
              "      <td>2.50</td>\n",
              "      <td>16.8</td>\n",
              "      <td>113.0</td>\n",
              "      <td>3.85</td>\n",
              "      <td>3.49</td>\n",
              "      <td>0.24</td>\n",
              "      <td>2.18</td>\n",
              "      <td>7.80</td>\n",
              "      <td>0.86</td>\n",
              "      <td>3.45</td>\n",
              "      <td>1480.0</td>\n",
              "      <td>0.0</td>\n",
              "    </tr>\n",
              "    <tr>\n",
              "      <th>4</th>\n",
              "      <td>13.24</td>\n",
              "      <td>2.59</td>\n",
              "      <td>2.87</td>\n",
              "      <td>21.0</td>\n",
              "      <td>118.0</td>\n",
              "      <td>2.80</td>\n",
              "      <td>2.69</td>\n",
              "      <td>0.39</td>\n",
              "      <td>1.82</td>\n",
              "      <td>4.32</td>\n",
              "      <td>1.04</td>\n",
              "      <td>2.93</td>\n",
              "      <td>735.0</td>\n",
              "      <td>0.0</td>\n",
              "    </tr>\n",
              "  </tbody>\n",
              "</table>\n",
              "</div>"
            ],
            "text/plain": [
              "   alcohol  malic_acid   ash  alcalinity_of_ash  magnesium  total_phenols  \\\n",
              "0    14.23        1.71  2.43               15.6      127.0           2.80   \n",
              "1    13.20        1.78  2.14               11.2      100.0           2.65   \n",
              "2    13.16        2.36  2.67               18.6      101.0           2.80   \n",
              "3    14.37        1.95  2.50               16.8      113.0           3.85   \n",
              "4    13.24        2.59  2.87               21.0      118.0           2.80   \n",
              "\n",
              "   flavanoids  nonflavanoid_phenols  proanthocyanins  color_intensity   hue  \\\n",
              "0        3.06                  0.28             2.29             5.64  1.04   \n",
              "1        2.76                  0.26             1.28             4.38  1.05   \n",
              "2        3.24                  0.30             2.81             5.68  1.03   \n",
              "3        3.49                  0.24             2.18             7.80  0.86   \n",
              "4        2.69                  0.39             1.82             4.32  1.04   \n",
              "\n",
              "   od280/od315_of_diluted_wines  proline  species  \n",
              "0                          3.92   1065.0      0.0  \n",
              "1                          3.40   1050.0      0.0  \n",
              "2                          3.17   1185.0      0.0  \n",
              "3                          3.45   1480.0      0.0  \n",
              "4                          2.93    735.0      0.0  "
            ]
          },
          "execution_count": 2,
          "metadata": {},
          "output_type": "execute_result"
        }
      ],
      "source": [
        "from sklearn.datasets import load_wine\n",
        "import pandas as pd\n",
        "import numpy as np\n",
        "\n",
        "data = load_wine().data\n",
        "\n",
        "labels = load_wine().target\n",
        "\n",
        "labels = np.reshape(labels,(178,1)) # reshape the labels to a column vector\n",
        "\n",
        "data = np.concatenate([data,labels],axis=-1)\n",
        "\n",
        "names = ['alcohol', 'malic_acid', 'ash', 'alcalinity_of_ash', 'magnesium', 'total_phenols', 'flavanoids', 'nonflavanoid_phenols', 'proanthocyanins', 'color_intensity', 'hue', 'od280/od315_of_diluted_wines', 'proline', 'species']\n",
        "\n",
        "dataset = pd.DataFrame(data,columns=names)\n",
        "\n",
        "dataset.head(5)"
      ]
    },
    {
      "cell_type": "code",
      "execution_count": 3,
      "metadata": {},
      "outputs": [
        {
          "name": "stdout",
          "output_type": "stream",
          "text": [
            "Class 0: 59 samples\n",
            "Class 1: 71 samples\n",
            "Class 2: 48 samples\n"
          ]
        }
      ],
      "source": [
        "from collections import Counter\n",
        "\n",
        "# Convert NumPy array to list\n",
        "labels_list = list(labels)\n",
        "\n",
        "class_labels, class_counts = np.unique(labels, return_counts=True)\n",
        "\n",
        "for class_label, count in zip(class_labels, class_counts):\n",
        "    print(f\"Class {class_label}: {count} samples\")"
      ]
    },
    {
      "cell_type": "markdown",
      "metadata": {
        "id": "Q6tKlh65lg6r"
      },
      "source": [
        "# Data Preprocessing\n",
        "\n",
        "- Split the dataset into features and target labels.\n",
        "- Split the data into training and testing sets using train_test_split from sklearn.model_selection."
      ]
    },
    {
      "cell_type": "code",
      "execution_count": 4,
      "metadata": {
        "id": "C6UKfRfQlxRj"
      },
      "outputs": [
        {
          "data": {
            "text/plain": [
              "((142, 13), (142, 1), (18, 13), (18, 1))"
            ]
          },
          "execution_count": 4,
          "metadata": {},
          "output_type": "execute_result"
        }
      ],
      "source": [
        "from sklearn.model_selection import train_test_split\n",
        "\n",
        "train_data, test_data, train_label, test_label = train_test_split(dataset.iloc[:,:13], labels, test_size=0.2, random_state=42, shuffle=True)\n",
        "\n",
        "validation_data, test_data, validation_label, test_label = train_test_split(test_data, test_label, test_size=0.5, random_state=42, shuffle=True)\n",
        "\n",
        "train_data.shape, train_label.shape, test_data.shape, test_label.shape"
      ]
    },
    {
      "cell_type": "markdown",
      "metadata": {
        "id": "__ovTewVl-ir"
      },
      "source": [
        "# Baseline Model\n",
        "\n",
        "Train a baseline SVM model using default hyperparameters.\n",
        "Evaluate the model's performance on the testing set using metrics like accuracy, precision, recall, and F1-score. Experiment with different kernel functions (e.g., linear, polynomial, RBF) and observe their effects on model performance."
      ]
    },
    {
      "cell_type": "code",
      "execution_count": 7,
      "metadata": {
        "id": "ykUPuvlcl94k"
      },
      "outputs": [
        {
          "name": "stdout",
          "output_type": "stream",
          "text": [
            "Performance of the SVM model with RBF kernel:\n",
            "Accuracy: 0.9444444444444444\n",
            "Precision: 0.9722222222222222\n",
            "Recall: 0.9444444444444444\n",
            "F1-score: 0.9522417153996101\n"
          ]
        }
      ],
      "source": [
        "from sklearn.svm import SVC\n",
        "from sklearn.metrics import accuracy_score, precision_score, recall_score, f1_score\n",
        "\n",
        "svm_model = SVC()\n",
        "\n",
        "svm_model.fit(train_data, train_label.ravel())  # We use ravel() to convert train_label to a 1D array if it's not already\n",
        "\n",
        "test_predictions = svm_model.predict(test_data)\n",
        "\n",
        "accuracy = accuracy_score(test_label, test_predictions)\n",
        "precision = precision_score(test_label, test_predictions, average='weighted')\n",
        "recall = recall_score(test_label, test_predictions, average='weighted')\n",
        "f1 = f1_score(test_label, test_predictions, average='weighted')\n",
        "\n",
        "print(f\"Performance of the SVM model with RBF kernel:\")\n",
        "print(f\"Accuracy: {accuracy}\")\n",
        "print(f\"Precision: {precision}\")\n",
        "print(f\"Recall: {recall}\")\n",
        "print(f\"F1-score: {f1}\")"
      ]
    },
    {
      "cell_type": "code",
      "execution_count": 9,
      "metadata": {},
      "outputs": [
        {
          "name": "stdout",
          "output_type": "stream",
          "text": [
            "Performance of the SVM model with linear kernel:\n",
            "Accuracy: 1.0\n",
            "Precision: 1.0\n",
            "Recall: 1.0\n",
            "F1-score: 1.0\n",
            "\n",
            "Performance of the SVM model with poly kernel:\n",
            "Accuracy: 1.0\n",
            "Precision: 1.0\n",
            "Recall: 1.0\n",
            "F1-score: 1.0\n",
            "\n",
            "Performance of the SVM model with rbf kernel:\n",
            "Accuracy: 0.9444444444444444\n",
            "Precision: 0.9722222222222222\n",
            "Recall: 0.9444444444444444\n",
            "F1-score: 0.9522417153996101\n",
            "\n",
            "Performance of the SVM model with sigmoid kernel:\n",
            "Accuracy: 0.3333333333333333\n",
            "Precision: 0.23809523809523808\n",
            "Recall: 0.3333333333333333\n",
            "F1-score: 0.2777777777777778\n",
            "\n"
          ]
        },
        {
          "name": "stderr",
          "output_type": "stream",
          "text": [
            "c:\\Users\\billi\\AppData\\Local\\Programs\\Python\\Python311\\Lib\\site-packages\\sklearn\\metrics\\_classification.py:1471: UndefinedMetricWarning: Precision is ill-defined and being set to 0.0 in labels with no predicted samples. Use `zero_division` parameter to control this behavior.\n",
            "  _warn_prf(average, modifier, msg_start, len(result))\n"
          ]
        }
      ],
      "source": [
        "kernels = ['linear', 'poly', 'rbf', 'sigmoid']\n",
        "\n",
        "kernel_performance = {}\n",
        "\n",
        "for kernel in kernels:\n",
        "    svm_model = SVC(kernel=kernel)\n",
        "    \n",
        "    svm_model.fit(train_data, train_label.ravel())  # Ensure labels are in the correct shape\n",
        "    \n",
        "    test_predictions = svm_model.predict(test_data)\n",
        "    \n",
        "    accuracy = accuracy_score(test_label, test_predictions)\n",
        "    precision = precision_score(test_label, test_predictions, average='weighted')\n",
        "    recall = recall_score(test_label, test_predictions, average='weighted')\n",
        "    f1 = f1_score(test_label, test_predictions, average='weighted')\n",
        "    \n",
        "    kernel_performance[kernel] = {'Accuracy': accuracy, 'Precision': precision, 'Recall': recall, 'F1-score': f1}\n",
        "\n",
        "for kernel, metrics in kernel_performance.items():\n",
        "    print(f\"Performance of the SVM model with {kernel} kernel:\")\n",
        "    for metric, value in metrics.items():\n",
        "        print(f\"{metric}: {value}\")\n",
        "    print(\"\")\n"
      ]
    },
    {
      "cell_type": "markdown",
      "metadata": {},
      "source": [
        "## SVM Model Performance with Different Kernels\n",
        "\n",
        "We evaluated the performance of scaled SVM models with different kernels: `linear`, `poly`, `rbf`, and `sigmoid`. Below is the summary of their performances:\n",
        "\n",
        "The `linear` and `poly` kernels outperformed `rbf` and `sigmoid` in this specific dataset, achieving perfect classification scores. The `rbf` kernel also showed strong performance but was slightly less effective than the former two. The `sigmoid` kernel, however, performed poorly, indicating it might be less appropriate for this dataset's characteristics or might need different hyperparameters. Future experiments could explore parameter tuning or alternative approaches for kernels that underperformed.\n"
      ]
    },
    {
      "cell_type": "markdown",
      "metadata": {
        "id": "6OKl2qDhlxfL"
      },
      "source": [
        "# Data Normalization\n",
        "\n",
        "Standardize the features using StandardScaler from sklearn.preprocessing.\n",
        "Explore the effects of data normalization on model performance with different normalization techniques."
      ]
    },
    {
      "cell_type": "code",
      "execution_count": 10,
      "metadata": {
        "id": "1WXtlop5mKed"
      },
      "outputs": [
        {
          "name": "stdout",
          "output_type": "stream",
          "text": [
            "Performance of the scaled SVM model with linear kernel:\n",
            "Accuracy: 0.9444444444444444\n",
            "Precision: 0.9722222222222222\n",
            "Recall: 0.9444444444444444\n",
            "F1-score: 0.9522417153996101\n",
            "\n",
            "Performance of the scaled SVM model with poly kernel:\n",
            "Accuracy: 0.9444444444444444\n",
            "Precision: 0.9494949494949494\n",
            "Recall: 0.9444444444444444\n",
            "F1-score: 0.9436304436304437\n",
            "\n",
            "Performance of the scaled SVM model with rbf kernel:\n",
            "Accuracy: 1.0\n",
            "Precision: 1.0\n",
            "Recall: 1.0\n",
            "F1-score: 1.0\n",
            "\n",
            "Performance of the scaled SVM model with sigmoid kernel:\n",
            "Accuracy: 0.9444444444444444\n",
            "Precision: 0.9722222222222222\n",
            "Recall: 0.9444444444444444\n",
            "F1-score: 0.9522417153996101\n",
            "\n"
          ]
        }
      ],
      "source": [
        "from sklearn.preprocessing import StandardScaler\n",
        "from sklearn.svm import SVC\n",
        "from sklearn.metrics import accuracy_score, precision_score, recall_score, f1_score\n",
        "\n",
        "scaler = StandardScaler()\n",
        "\n",
        "train_data_scaled = scaler.fit_transform(train_data)\n",
        "test_data_scaled = scaler.transform(test_data)\n",
        "\n",
        "scaled_kernel_performance = {}\n",
        "\n",
        "kernels = ['linear', 'poly', 'rbf', 'sigmoid']\n",
        "\n",
        "for kernel in kernels:\n",
        "    # Initialize the SVM model with the current kernel\n",
        "    svm_model = SVC(kernel=kernel)\n",
        "    \n",
        "    svm_model.fit(train_data_scaled, train_label.ravel())\n",
        "    \n",
        "    scaled_test_predictions = svm_model.predict(test_data_scaled)\n",
        "    \n",
        "    accuracy = accuracy_score(test_label, scaled_test_predictions)\n",
        "    precision = precision_score(test_label, scaled_test_predictions, average='weighted')\n",
        "    recall = recall_score(test_label, scaled_test_predictions, average='weighted')\n",
        "    f1 = f1_score(test_label, scaled_test_predictions, average='weighted')\n",
        "    \n",
        "    # Store the metrics\n",
        "    scaled_kernel_performance[kernel] = {'Accuracy': accuracy, 'Precision': precision, 'Recall': recall, 'F1-score': f1}\n",
        "\n",
        "for kernel, metrics in scaled_kernel_performance.items():\n",
        "    print(f\"Performance of the scaled SVM model with {kernel} kernel:\")\n",
        "    for metric, value in metrics.items():\n",
        "        print(f\"{metric}: {value}\")\n",
        "    print(\"\")\n"
      ]
    },
    {
      "cell_type": "markdown",
      "metadata": {},
      "source": [
        "## Analysis of Scaled SVM Models with Different Kernels\n",
        "\n",
        "After applying StandardScaler for data normalization, we assessed the performance of scaled SVM models using different kernels: `linear`, `poly`, `rbf`, and `sigmoid`. Here's a summary of their performance:\n",
        "\n",
        "The application of StandardScaler significantly impacted the performance of SVM models with different kernels. The RBF kernel emerged as the top performer with perfect scores, while linear and sigmoid kernels also showed strong results. The poly kernel, while slightly behind, still performed admirably. These results highlight the importance of data preprocessing and the potential for different kernels to excel under normalized data conditions. Future work could explore parameter tuning for each kernel to further optimize performance.\n"
      ]
    },
    {
      "cell_type": "markdown",
      "metadata": {
        "id": "Rbx9YpVSmP1V"
      },
      "source": [
        "# Hyperparameter Tuning\n",
        "\n",
        "Perform hyperparameter tuning to find the best combination of hyperparameters for the SVM model.\n",
        "Tune hyperparameters such as C (regularization parameter) and the choice of kernel (linear, polynomial, RBF).\n",
        "Use techniques like GridSearchCV or RandomizedSearchCV from sklearn.model_selection to efficiently search through the hyperparameter space."
      ]
    },
    {
      "cell_type": "code",
      "execution_count": 11,
      "metadata": {
        "id": "K1XtODy-meFB"
      },
      "outputs": [
        {
          "name": "stdout",
          "output_type": "stream",
          "text": [
            "Fitting 5 folds for each of 72 candidates, totalling 360 fits\n",
            "Best parameters found: {'C': 0.1, 'degree': 2, 'gamma': 'scale', 'kernel': 'linear'}\n",
            "Performance of the best SVM model:\n",
            "Accuracy: 0.9444444444444444\n",
            "Precision: 0.9722222222222222\n",
            "Recall: 0.9444444444444444\n",
            "F1-score: 0.9522417153996101\n"
          ]
        }
      ],
      "source": [
        "from sklearn.model_selection import GridSearchCV\n",
        "from sklearn.svm import SVC\n",
        "\n",
        "param_grid = {\n",
        "    'C': [0.1, 1, 10, 100],  # Regularization parameter\n",
        "    'kernel': ['linear', 'poly', 'rbf'],  # Type of kernel\n",
        "    'degree': [2, 3, 4],  # Degree of the polynomial kernel, if 'poly' is chosen\n",
        "    'gamma': ['scale', 'auto']  # Kernel coefficient for 'rbf' and 'poly'\n",
        "}\n",
        "\n",
        "# Initialize the base SVM model\n",
        "base_svc = SVC()\n",
        "\n",
        "grid_search = GridSearchCV(base_svc, param_grid, cv=5, scoring='accuracy', verbose=1)\n",
        "\n",
        "grid_search.fit(train_data_scaled, train_label.ravel())\n",
        "\n",
        "print(f\"Best parameters found: {grid_search.best_params_}\")\n",
        "\n",
        "best_svc = grid_search.best_estimator_\n",
        "\n",
        "best_predictions = best_svc.predict(test_data_scaled)\n",
        "\n",
        "best_accuracy = accuracy_score(test_label, best_predictions)\n",
        "best_precision = precision_score(test_label, best_predictions, average='weighted')\n",
        "best_recall = recall_score(test_label, best_predictions, average='weighted')\n",
        "best_f1 = f1_score(test_label, best_predictions, average='weighted')\n",
        "\n",
        "print(f\"Performance of the best SVM model:\")\n",
        "print(f\"Accuracy: {best_accuracy}\")\n",
        "print(f\"Precision: {best_precision}\")\n",
        "print(f\"Recall: {best_recall}\")\n",
        "print(f\"F1-score: {best_f1}\")\n"
      ]
    },
    {
      "cell_type": "markdown",
      "metadata": {},
      "source": [
        "## Hyperparameter Tuning Results\n",
        "\n",
        "After performing hyperparameter tuning on the SVM model using `GridSearchCV`, the best combination of hyperparameters was found to be:\n",
        "- **C (Regularization Parameter)**: 0.1\n",
        "- **Kernel Type**: Linear\n",
        "- **Degree (for poly kernel)**: 2\n",
        "- **Gamma (for rbf and poly kernels)**: Scale\n",
        "\n",
        "These parameters were determined after fitting 5 folds for each of 72 candidates, totaling 360 fits.\n",
        "\n",
        "### Performance of the Optimized SVM Model:\n",
        "- **Accuracy**: 0.9444444444444444\n",
        "- **Precision**: 0.9722222222222222\n",
        "- **Recall**: 0.9444444444444444\n",
        "- **F1-score**: 0.9522417153996101\n",
        "\n",
        "### Analysis:\n",
        "The optimized SVM model with a linear kernel and a regularization parameter of 0.1 achieved an accuracy of 94.44%, which is a solid performance. The high precision score of 97.22% indicates that the model has a low false positive rate, which is particularly valuable in scenarios where false positives are costly. The recall score, also at 94.44%, suggests that the model is able to identify most of the positive instances correctly. The F1-score, which balances precision and recall, is also high at 95.22%, indicating a balanced and well-performing model.\n",
        "\n",
        "Interestingly, the best-performing model used a relatively low value for the regularization parameter (C=0.1), which suggests that the model benefits from less complex decision boundaries. This might indicate that the data does not require a highly complex model to be separated into different classes effectively.\n",
        "\n",
        "The 'linear' kernel consistently outperforms 'poly' and 'rbf' kernels across different evaluations, indicating that the data may be linearly separable or that linear models are sufficient for this particular problem set.\n",
        "\n",
        "Overall, the results from the hyperparameter tuning suggest that simpler models may be sufficient and potentially more effective for this specific dataset.\n"
      ]
    },
    {
      "cell_type": "markdown",
      "metadata": {
        "id": "8AFd23UzmeYM"
      },
      "source": [
        "# Effects of Data Size\n",
        "\n",
        "Explore the effects of varying the size of the training data on model performance.\n",
        "Train SVM models using different proportions of the training data (change the number of CV folds) and observe how performance changes. Visualize the relationship between training size and model performance."
      ]
    },
    {
      "cell_type": "code",
      "execution_count": 12,
      "metadata": {
        "id": "Q9qsZXwemem-"
      },
      "outputs": [
        {
          "data": {
            "image/png": "[encoded data removed]",
            "text/plain": [
              "<Figure size 640x480 with 1 Axes>"
            ]
          },
          "metadata": {},
          "output_type": "display_data"
        }
      ],
      "source": [
        "import numpy as np\n",
        "import matplotlib.pyplot as plt\n",
        "from sklearn.model_selection import learning_curve\n",
        "from sklearn.svm import SVC\n",
        "\n",
        "svm_model = SVC(kernel='rbf', C=1, gamma='auto')\n",
        "train_sizes = np.linspace(0.1, 1.0, 10)\n",
        "\n",
        "train_sizes, train_scores, validation_scores = learning_curve(\n",
        "    estimator=svm_model,\n",
        "    X=train_data_scaled,\n",
        "    y=train_label.ravel(),\n",
        "    train_sizes=train_sizes,\n",
        "    cv=5,\n",
        "    scoring='accuracy',\n",
        "    n_jobs=-1  # Use all available cores\n",
        ")\n",
        "\n",
        "train_scores_mean = np.mean(train_scores, axis=1)\n",
        "train_scores_std = np.std(train_scores, axis=1)\n",
        "validation_scores_mean = np.mean(validation_scores, axis=1)\n",
        "validation_scores_std = np.std(validation_scores, axis=1)\n",
        "\n",
        "plt.figure()\n",
        "plt.title('SVM Learning Curve')\n",
        "plt.xlabel('Training examples')\n",
        "plt.ylabel('Score')\n",
        "plt.fill_between(train_sizes, train_scores_mean - train_scores_std,\n",
        "                train_scores_mean + train_scores_std, alpha=0.1, color=\"r\")\n",
        "plt.fill_between(train_sizes, validation_scores_mean - validation_scores_std,\n",
        "                validation_scores_mean + validation_scores_std, alpha=0.1, color=\"g\")\n",
        "plt.plot(train_sizes, train_scores_mean, 'o-', color=\"r\", label=\"Training score\")\n",
        "plt.plot(train_sizes, validation_scores_mean, 'o-', color=\"g\", label=\"Cross-validation score\")\n",
        "plt.legend(loc=\"best\")\n",
        "plt.grid()\n",
        "plt.show()\n"
      ]
    },
    {
      "cell_type": "markdown",
      "metadata": {},
      "source": [
        "## Brief Analysis of SVM Learning Curve\n",
        "\n",
        "### Key Observations:\n",
        "- **Training Score**: Initially high, indicating overfitting with few data points. It decreases slightly with more data, showing reduced overfitting.\n",
        "- **Cross-validation Score**: Starts low, showing underfitting, then increases significantly with more data, demonstrating better model learning. However, it plateaus, indicating limited returns with additional data.\n",
        "\n",
        "### Conclusions:\n",
        "- The narrowing gap between training and cross-validation scores signifies reduced overfitting and better model generalization as data increases.\n",
        "- Both scores plateau, suggesting adding more training data beyond a certain point does not significantly improve performance.\n"
      ]
    },
    {
      "cell_type": "markdown",
      "metadata": {
        "id": "kPr0Wrbtmfo9"
      },
      "source": [
        "# Model Evaluation\n",
        "\n",
        "Evaluate the final tuned SVM model on the testing set using various performance metrics.\n",
        "Plot confusion matrices to visualize the model's predictions.\n",
        "Discuss the results and insights gained from the experimentation."
      ]
    },
    {
      "cell_type": "code",
      "execution_count": 13,
      "metadata": {
        "id": "rmaLlz4knMIS"
      },
      "outputs": [
        {
          "name": "stdout",
          "output_type": "stream",
          "text": [
            "Final Model Performance:\n",
            "Accuracy: 0.9444444444444444\n",
            "Precision: 0.9722222222222222\n",
            "Recall: 0.9444444444444444\n",
            "F1-score: 0.9522417153996101\n"
          ]
        }
      ],
      "source": [
        "from sklearn.metrics import accuracy_score, precision_score, recall_score, f1_score, classification_report\n",
        "\n",
        "final_predictions = best_svc.predict(test_data_scaled)\n",
        "\n",
        "final_accuracy = accuracy_score(test_label, final_predictions)\n",
        "final_precision = precision_score(test_label, final_predictions, average='weighted')\n",
        "final_recall = recall_score(test_label, final_predictions, average='weighted')\n",
        "final_f1 = f1_score(test_label, final_predictions, average='weighted')\n",
        "\n",
        "print(f\"Final Model Performance:\")\n",
        "print(f\"Accuracy: {final_accuracy}\")\n",
        "print(f\"Precision: {final_precision}\")\n",
        "print(f\"Recall: {final_recall}\")\n",
        "print(f\"F1-score: {final_f1}\")"
      ]
    },
    {
      "cell_type": "code",
      "execution_count": 15,
      "metadata": {},
      "outputs": [
        {
          "name": "stdout",
          "output_type": "stream",
          "text": [
            "Classification Report:\n",
            "              precision    recall  f1-score   support\n",
            "\n",
            "           0       1.00      1.00      1.00         7\n",
            "           1       1.00      0.90      0.95        10\n",
            "           2       0.50      1.00      0.67         1\n",
            "\n",
            "    accuracy                           0.94        18\n",
            "   macro avg       0.83      0.97      0.87        18\n",
            "weighted avg       0.97      0.94      0.95        18\n",
            "\n"
          ]
        }
      ],
      "source": [
        "print(\"Classification Report:\")\n",
        "print(classification_report(test_label, final_predictions))"
      ]
    },
    {
      "cell_type": "code",
      "execution_count": 16,
      "metadata": {},
      "outputs": [
        {
          "data": {
            "image/png": "[encoded data removed]",
            "text/plain": [
              "<Figure size 1000x800 with 2 Axes>"
            ]
          },
          "metadata": {},
          "output_type": "display_data"
        }
      ],
      "source": [
        "from sklearn.metrics import confusion_matrix\n",
        "import seaborn as sns\n",
        "\n",
        "cnf_matrix = confusion_matrix(test_label, final_predictions)\n",
        "\n",
        "plt.figure(figsize=(10, 8))\n",
        "sns.heatmap(cnf_matrix, annot=True, fmt='d', cmap='Blues', xticklabels=best_svc.classes_, yticklabels=best_svc.classes_)\n",
        "plt.xlabel('Predicted labels')\n",
        "plt.ylabel('True labels')\n",
        "plt.title('Confusion Matrix')\n",
        "plt.show()"
      ]
    }
  ],
  "metadata": {
    "colab": {
      "include_colab_link": true,
      "provenance": []
    },
    "kernelspec": {
      "display_name": "Python 3",
      "name": "python3"
    },
    "language_info": {
      "codemirror_mode": {
        "name": "ipython",
        "version": 3
      },
      "file_extension": ".py",
      "mimetype": "text/x-python",
      "name": "python",
      "nbconvert_exporter": "python",
      "pygments_lexer": "ipython3",
      "version": "3.11.4"
    }
  },
  "nbformat": 4,
  "nbformat_minor": 0
}
